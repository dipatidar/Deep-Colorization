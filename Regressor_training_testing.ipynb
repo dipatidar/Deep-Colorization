{
 "cells": [
  {
   "cell_type": "markdown",
   "metadata": {},
   "source": [
    "# Define imports"
   ]
  },
  {
   "cell_type": "code",
   "execution_count": 50,
   "metadata": {},
   "outputs": [],
   "source": [
    "#!pip install opencv-python\n",
    "import os\n",
    "import cv2\n",
    "import os\n",
    "import glob\n",
    "import numpy as np\n",
    "from Regressor_Model_Controller import Regressor_Model_Controller\n",
    "import matplotlib.pyplot as plt\n",
    "import torchvision.datasets as datasets\n",
    "import torch\n",
    "import torchvision.transforms as transforms\n",
    "import math\n",
    "import random\n",
    "\n",
    "\n",
    "torch.set_default_tensor_type(torch.FloatTensor)"
   ]
  },
  {
   "cell_type": "markdown",
   "metadata": {},
   "source": [
    "# Define constants"
   ]
  },
  {
   "cell_type": "code",
   "execution_count": 51,
   "metadata": {},
   "outputs": [],
   "source": [
    "\n",
    "DIPALI_HOME = './DLWG/DataSet/*.jpg'\n",
    "IMAGE_HEIGHT = 128\n",
    "IMAGE_WIDTH = 128\n",
    "REGRESSOR_SAVED_MODEL_PATH= './Model/Regressor/Regressor.pth'\n",
    "REGRESSOR_EPOCH = 75\n",
    "REGRESSOR_LOSS_PLOT_PATH = \"./Plots/Regressor/Regressor_Loss_plot\"\n",
    "REGRESSOR_LR = 0.0001\n",
    "REGRESSOR_WEIGHT_DECAY = 1e-5\n",
    "REGRESSOR_IN_CHANNEL = 1\n",
    "REGRESSOR_HIDDEN_CHANNEL = 3\n",
    "REGRESSOR_OUT_DIMS = 2\n",
    "REGRESSOR_BATCH_SIZE_CPU = 32\n",
    "REGRESSOR_BATCH_SIZE_CUDA = 8\n",
    "REGRESSOR_TEST_SPLIT=0.1\n",
    "\n",
    "os.makedirs(\"./Model/Regressor/\", exist_ok=True)\n",
    "os.makedirs(\"./Plots/Regressor/\",exist_ok=True)"
   ]
  },
  {
   "cell_type": "markdown",
   "metadata": {},
   "source": [
    "# Use GPU if available"
   ]
  },
  {
   "cell_type": "code",
   "execution_count": 5,
   "metadata": {},
   "outputs": [],
   "source": [
    "def get_device():\n",
    "        device = torch.device(\"cuda:0\" if torch.cuda.is_available() else \"cpu\")\n",
    "        is_cuda_present = True if torch.cuda.is_available() else False\n",
    "        num_workers = 8 if is_cuda_present else 0\n",
    "\n",
    "        return device, is_cuda_present, num_workers"
   ]
  },
  {
   "cell_type": "markdown",
   "metadata": {},
   "source": [
    "# Load image data from folder old"
   ]
  },
  {
   "cell_type": "code",
   "execution_count": 8,
   "metadata": {},
   "outputs": [],
   "source": [
    "def image_modification(file,nimages):\n",
    "    img = cv2.imread(file)\n",
    "\n",
    "    #Resize to respect the input_shape\n",
    "    inp = cv2.resize(img, (IMAGE_WIDTH , IMAGE_HEIGHT))\n",
    "\n",
    "    #Convert img to RGB\n",
    "    rgb = cv2.cvtColor(inp, cv2.COLOR_BGR2RGB)\n",
    "    \n",
    "    return img\n",
    "    \n",
    "\n",
    "def read_images_to_tensor(filepath):\n",
    "    \n",
    "    files = glob.glob(filepath)\n",
    "    nimages = len(files)\n",
    "    data = []\n",
    "    #print(files)\n",
    "    for f1 in files:\n",
    "        #cv2.imshow('image',img)\n",
    "        data.append(image_modification(f1,nimages))\n",
    "    return torch.tensor(data)\n",
    "\n",
    "\n",
    "data_tensor = read_images_to_tensor(DIPALI_HOME)"
   ]
  },
  {
   "cell_type": "code",
   "execution_count": 27,
   "metadata": {},
   "outputs": [],
   "source": [
    "data_set_dir = './DataSet'\n",
    "image_paths = os.listdir(data_set_dir)\n",
    "image_paths = [image_path for image_path in image_paths if image_path.endswith('.jpg')]\n",
    "random.shuffle(image_paths)\n",
    "image_data = [cv2.imread(os.path.join(data_set_dir, image_path)) for image_path in image_paths]\n",
    "\n",
    "transformed_image_data = []\n",
    "\n",
    "transform_color = transforms.Compose([transforms.ToTensor()])\n",
    "\n",
    "for image_path in image_paths:\n",
    "    image = cv2.imread(os.path.join(data_set_dir, image_path))\n",
    "    imageLAB = cv2.cvtColor(image, cv2.COLOR_RGB2LAB)\n",
    "    #print(imageLAB.shape)\n",
    "    image_lab = transform_color(image)\n",
    "    image_gray = image_lab[0:1,:,:]\n",
    "\n",
    "    image_a = image_lab[1:2, :, :]\n",
    "    #print(image_a.shape)\n",
    "\n",
    "    image_b = image_lab[2:3, :, :]\n",
    "    #print(image_b.shape)\n",
    "    #print(image_b)\n",
    "    #plt.imshow(image_b)\n",
    "    #plt.show()\n",
    "    \n",
    "\n",
    "    transformed_image_data.append((image_gray, image_a, image_b))\n"
   ]
  },
  {
   "cell_type": "markdown",
   "metadata": {},
   "source": [
    "# load augmented image data"
   ]
  },
  {
   "cell_type": "code",
   "execution_count": 70,
   "metadata": {},
   "outputs": [],
   "source": [
    "train_data_set_dir = './TrainSet'\n",
    "test_data_set_dir = './TestSet'\n",
    "\n",
    "train_image_paths = os.listdir(train_data_set_dir)\n",
    "test_image_paths = os.listdir(test_data_set_dir)\n",
    "\n",
    "train_image_paths = [image_path for image_path in train_image_paths if image_path.endswith('.jpg')]\n",
    "test_image_paths = [image_path for image_path in test_image_paths if image_path.endswith('.jpg')]\n",
    "\n",
    "random.shuffle(train_image_paths)\n",
    "random.shuffle(test_image_paths)\n",
    "\n",
    "train_image_data = [cv2.imread(os.path.join(train_data_set_dir, image_path)) for image_path in train_image_paths]\n",
    "test_image_data = [cv2.imread(os.path.join(test_data_set_dir, image_path)) for image_path in test_image_paths]\n"
   ]
  },
  {
   "cell_type": "markdown",
   "metadata": {},
   "source": [
    "# Images to L* a* b* color space convertion"
   ]
  },
  {
   "cell_type": "code",
   "execution_count": 71,
   "metadata": {},
   "outputs": [],
   "source": [
    "# LAB color space\n",
    "train_image_data = [cv2.cvtColor(image, cv2.COLOR_BGR2LAB) for image in train_image_data]\n",
    "test_image_data = [cv2.cvtColor(image, cv2.COLOR_BGR2LAB) for image in test_image_data]\n"
   ]
  },
  {
   "cell_type": "markdown",
   "metadata": {},
   "source": [
    "### Display L* a* b images"
   ]
  },
  {
   "cell_type": "code",
   "execution_count": 72,
   "metadata": {},
   "outputs": [
    {
     "name": "stdout",
     "output_type": "stream",
     "text": [
      "[[17 17 19 ... 17 17 17]\n",
      " [15 15 17 ... 17 17 16]\n",
      " [16 16 17 ... 17 16 16]\n",
      " ...\n",
      " [20 21 20 ...  6  5  6]\n",
      " [19 21 19 ...  5  5  7]\n",
      " [19 21 18 ...  5  5  7]]\n"
     ]
    },
    {
     "data": {
      "image/png": "[encoded data removed]",
      "text/plain": [
       "<Figure size 432x288 with 3 Axes>"
      ]
     },
     "metadata": {
      "needs_background": "light"
     },
     "output_type": "display_data"
    }
   ],
   "source": [
    "def showImageLab(image_Lab):\n",
    "    #image_bgr = cv2.imread(image_file)\n",
    "    #image_Lab = cv2.cvtColor(image_bgr, cv2.COLOR_BGR2LAB)\n",
    "\n",
    "    L = image_Lab[:, :, 0]\n",
    "    a = image_Lab[:, :, 1]\n",
    "    b = image_Lab[:, :, 2]\n",
    "    print(L)\n",
    "\n",
    "    plt.subplot(1, 3, 1)\n",
    "    plt.title('L')\n",
    "    plt.gray()\n",
    "    plt.imshow(L)\n",
    "    plt.axis('off')\n",
    "\n",
    "    plt.subplot(1, 3, 2)\n",
    "    plt.title('a')\n",
    "    plt.gray()\n",
    "    plt.imshow(a)\n",
    "    plt.axis('off')\n",
    "\n",
    "    plt.subplot(1, 3, 3)\n",
    "    plt.title('b')\n",
    "    plt.gray()\n",
    "    plt.imshow(b)\n",
    "    plt.axis('off')\n",
    "\n",
    "    plt.show() \n",
    "    \n",
    "#print(test_image_data[:5])\n",
    "\n",
    "showImageLab(train_image_data[1])\n"
   ]
  },
  {
   "cell_type": "code",
   "execution_count": 73,
   "metadata": {},
   "outputs": [
    {
     "name": "stdout",
     "output_type": "stream",
     "text": [
      "torch.Size([1, 128, 128])\n",
      "torch.Size([1, 128, 128])\n",
      "torch.Size([1, 128, 128])\n",
      "torch.Size([1, 128, 128])\n",
      "torch.Size([1, 128, 128])\n",
      "torch.Size([1, 128, 128])\n",
      "torch.Size([1, 128, 128])\n",
      "torch.Size([1, 128, 128])\n",
      "torch.Size([1, 128, 128])\n",
      "torch.Size([1, 128, 128])\n",
      "torch.Size([1, 128, 128])\n",
      "torch.Size([1, 128, 128])\n",
      "torch.Size([1, 128, 128])\n",
      "torch.Size([1, 128, 128])\n",
      "torch.Size([1, 128, 128])\n",
      "torch.Size([1, 128, 128])\n",
      "torch.Size([1, 128, 128])\n",
      "torch.Size([1, 128, 128])\n",
      "torch.Size([1, 128, 128])\n",
      "torch.Size([1, 128, 128])\n",
      "torch.Size([1, 128, 128])\n",
      "torch.Size([1, 128, 128])\n",
      "torch.Size([1, 128, 128])\n",
      "torch.Size([1, 128, 128])\n",
      "torch.Size([1, 128, 128])\n",
      "torch.Size([1, 128, 128])\n",
      "torch.Size([1, 128, 128])\n",
      "torch.Size([1, 128, 128])\n",
      "torch.Size([1, 128, 128])\n",
      "torch.Size([1, 128, 128])\n",
      "torch.Size([1, 128, 128])\n",
      "torch.Size([1, 128, 128])\n",
      "torch.Size([1, 128, 128])\n",
      "torch.Size([1, 128, 128])\n",
      "torch.Size([1, 128, 128])\n",
      "torch.Size([1, 128, 128])\n",
      "torch.Size([1, 128, 128])\n",
      "torch.Size([1, 128, 128])\n",
      "torch.Size([1, 128, 128])\n",
      "torch.Size([1, 128, 128])\n",
      "torch.Size([1, 128, 128])\n",
      "torch.Size([1, 128, 128])\n",
      "torch.Size([1, 128, 128])\n",
      "torch.Size([1, 128, 128])\n",
      "torch.Size([1, 128, 128])\n",
      "torch.Size([1, 128, 128])\n",
      "torch.Size([1, 128, 128])\n",
      "torch.Size([1, 128, 128])\n",
      "torch.Size([1, 128, 128])\n",
      "torch.Size([1, 128, 128])\n",
      "torch.Size([1, 128, 128])\n",
      "torch.Size([1, 128, 128])\n",
      "torch.Size([1, 128, 128])\n",
      "torch.Size([1, 128, 128])\n",
      "torch.Size([1, 128, 128])\n",
      "torch.Size([1, 128, 128])\n",
      "torch.Size([1, 128, 128])\n",
      "torch.Size([1, 128, 128])\n",
      "torch.Size([1, 128, 128])\n",
      "torch.Size([1, 128, 128])\n",
      "torch.Size([1, 128, 128])\n",
      "torch.Size([1, 128, 128])\n",
      "torch.Size([1, 128, 128])\n",
      "torch.Size([1, 128, 128])\n",
      "torch.Size([1, 128, 128])\n",
      "torch.Size([1, 128, 128])\n",
      "torch.Size([1, 128, 128])\n",
      "torch.Size([1, 128, 128])\n",
      "torch.Size([1, 128, 128])\n",
      "torch.Size([1, 128, 128])\n",
      "torch.Size([1, 128, 128])\n",
      "torch.Size([1, 128, 128])\n",
      "torch.Size([1, 128, 128])\n",
      "torch.Size([1, 128, 128])\n",
      "torch.Size([1, 128, 128])\n"
     ]
    }
   ],
   "source": [
    "# Convert images to tensors\n",
    "transform_color = transforms.Compose([transforms.ToTensor()])\n",
    "\n",
    "transformed_train_image_data = []\n",
    "transformed_test_image_data = []\n",
    "\n",
    "for image in train_image_data:\n",
    "    # train image to tensor\n",
    "    image_lab = transform_color(image)\n",
    "    image_gray = image_lab[0:1,:,:]\n",
    "    image_a = image_lab[1:2, :, :]\n",
    "    image_b = image_lab[2:3, :, :]\n",
    "    transformed_train_image_data.append((image_gray, image_a, image_b))\n",
    "\n",
    "for image in test_image_data:\n",
    "    # test image to tensor\n",
    "    image_lab = transform_color(image)\n",
    "    image_gray = image_lab[0:1,:,:]\n",
    "    print(image_gray.shape)\n",
    "    image_a = image_lab[1:2, :, :]\n",
    "    image_b = image_lab[2:3, :, :]\n",
    "    transformed_test_image_data.append((image_gray, image_a, image_b))\n"
   ]
  },
  {
   "cell_type": "code",
   "execution_count": null,
   "metadata": {},
   "outputs": [],
   "source": [
    "#a_list = np.array(transformed_test_image_data)\n",
    "np.amax(train_image_data[],axis=0)\n",
    "#print(transformed_test_image_data[:1])"
   ]
  },
  {
   "cell_type": "markdown",
   "metadata": {},
   "source": [
    "# Train/Test batch data loading"
   ]
  },
  {
   "cell_type": "code",
   "execution_count": 52,
   "metadata": {},
   "outputs": [],
   "source": [
    "train_image_data = []\n",
    "test_image_data = []\n",
    "\n",
    "batch_size = REGRESSOR_BATCH_SIZE_CUDA\n",
    "# include both color and gray images\n",
    "trainloader = torch.utils.data.DataLoader(transformed_train_image_data, batch_size=batch_size,\n",
    "                                          shuffle=True, num_workers=0)\n",
    "testloader = torch.utils.data.DataLoader(transformed_test_image_data, batch_size=batch_size,\n",
    "                                         shuffle=False, num_workers=0)"
   ]
  },
  {
   "cell_type": "markdown",
   "metadata": {},
   "source": [
    "# Train the Regressor"
   ]
  },
  {
   "cell_type": "code",
   "execution_count": 53,
   "metadata": {},
   "outputs": [],
   "source": [
    "def train_regressor(augmented_dataset_batch, device):\n",
    "        regressor_train_arguments = {\n",
    "            \"data_loader\": augmented_dataset_batch,\n",
    "            \"saved_model_path\": REGRESSOR_SAVED_MODEL_PATH,\n",
    "            \"epochs\": REGRESSOR_EPOCH,\n",
    "            \"learning_rate\": REGRESSOR_LR,\n",
    "            \"weight_decay\": REGRESSOR_WEIGHT_DECAY,\n",
    "            \"in_channel\": REGRESSOR_IN_CHANNEL,\n",
    "            \"hidden_channel\": REGRESSOR_HIDDEN_CHANNEL,\n",
    "            \"out_dims\": REGRESSOR_OUT_DIMS,\n",
    "            \"loss_plot_path\": REGRESSOR_LOSS_PLOT_PATH\n",
    "        }\n",
    "\n",
    "        regressor_manager = Regressor_Model_Controller()\n",
    "        regressor_manager.train(regressor_train_arguments, device)\n",
    "\n",
    "def test_regressor(augmented_dataset_batch, device):\n",
    "        regressor_arguments = {\n",
    "            \"data_loader\": augmented_dataset_batch,\n",
    "            \"saved_model_path\": REGRESSOR_SAVED_MODEL_PATH,\n",
    "            \"in_channel\": REGRESSOR_IN_CHANNEL,\n",
    "            \"hidden_channel\": REGRESSOR_HIDDEN_CHANNEL,\n",
    "            \"out_dims\": REGRESSOR_OUT_DIMS,\n",
    "            \"loss_plot_path\": REGRESSOR_LOSS_PLOT_PATH\n",
    "        }\n",
    "\n",
    "        regressor_manager = Regressor_Model_Controller()\n",
    "        regressor_manager.test(regressor_arguments, device)"
   ]
  },
  {
   "cell_type": "code",
   "execution_count": 62,
   "metadata": {},
   "outputs": [
    {
     "name": "stdout",
     "output_type": "stream",
     "text": [
      "..Regressor training started..\n",
      "1 3 2\n"
     ]
    },
    {
     "ename": "RuntimeError",
     "evalue": "mat1 dim 1 must match mat2 dim 0",
     "output_type": "error",
     "traceback": [
      "\u001b[0;31m---------------------------------------------------------------------------\u001b[0m",
      "\u001b[0;31mRuntimeError\u001b[0m                              Traceback (most recent call last)",
      "\u001b[0;32m/scratch/local/10665047/ipykernel_156567/2542046670.py\u001b[0m in \u001b[0;36m<module>\u001b[0;34m\u001b[0m\n\u001b[1;32m      1\u001b[0m \u001b[0mdevice\u001b[0m\u001b[0;34m,\u001b[0m \u001b[0mis_cuda_present\u001b[0m\u001b[0;34m,\u001b[0m \u001b[0mnum_workers\u001b[0m \u001b[0;34m=\u001b[0m \u001b[0mget_device\u001b[0m\u001b[0;34m(\u001b[0m\u001b[0;34m)\u001b[0m\u001b[0;34m\u001b[0m\u001b[0;34m\u001b[0m\u001b[0m\n\u001b[0;32m----> 2\u001b[0;31m \u001b[0mtrain_regressor\u001b[0m\u001b[0;34m(\u001b[0m\u001b[0mtrainloader\u001b[0m\u001b[0;34m,\u001b[0m\u001b[0mdevice\u001b[0m\u001b[0;34m)\u001b[0m\u001b[0;34m\u001b[0m\u001b[0;34m\u001b[0m\u001b[0m\n\u001b[0m",
      "\u001b[0;32m/scratch/local/10665047/ipykernel_156567/996203501.py\u001b[0m in \u001b[0;36mtrain_regressor\u001b[0;34m(augmented_dataset_batch, device)\u001b[0m\n\u001b[1;32m     13\u001b[0m \u001b[0;34m\u001b[0m\u001b[0m\n\u001b[1;32m     14\u001b[0m         \u001b[0mregressor_manager\u001b[0m \u001b[0;34m=\u001b[0m \u001b[0mRegressor_Model_Controller\u001b[0m\u001b[0;34m(\u001b[0m\u001b[0;34m)\u001b[0m\u001b[0;34m\u001b[0m\u001b[0;34m\u001b[0m\u001b[0m\n\u001b[0;32m---> 15\u001b[0;31m         \u001b[0mregressor_manager\u001b[0m\u001b[0;34m.\u001b[0m\u001b[0mtrain\u001b[0m\u001b[0;34m(\u001b[0m\u001b[0mregressor_train_arguments\u001b[0m\u001b[0;34m,\u001b[0m \u001b[0mdevice\u001b[0m\u001b[0;34m)\u001b[0m\u001b[0;34m\u001b[0m\u001b[0;34m\u001b[0m\u001b[0m\n\u001b[0m\u001b[1;32m     16\u001b[0m \u001b[0;34m\u001b[0m\u001b[0m\n\u001b[1;32m     17\u001b[0m \u001b[0;32mdef\u001b[0m \u001b[0mtest_regressor\u001b[0m\u001b[0;34m(\u001b[0m\u001b[0maugmented_dataset_batch\u001b[0m\u001b[0;34m,\u001b[0m \u001b[0mdevice\u001b[0m\u001b[0;34m)\u001b[0m\u001b[0;34m:\u001b[0m\u001b[0;34m\u001b[0m\u001b[0;34m\u001b[0m\u001b[0m\n",
      "\u001b[0;32m~/DLWG/Regressor_Model_Controller.py\u001b[0m in \u001b[0;36mtrain\u001b[0;34m(self, train_arguments, device)\u001b[0m\n\u001b[1;32m     41\u001b[0m \u001b[0;34m\u001b[0m\u001b[0m\n\u001b[1;32m     42\u001b[0m                 \u001b[0ma_b_mean\u001b[0m \u001b[0;34m=\u001b[0m \u001b[0mUtils\u001b[0m\u001b[0;34m.\u001b[0m\u001b[0mget_ab_mean\u001b[0m\u001b[0;34m(\u001b[0m\u001b[0ma_channel\u001b[0m\u001b[0;34m,\u001b[0m \u001b[0mb_channel\u001b[0m\u001b[0;34m)\u001b[0m\u001b[0;34m\u001b[0m\u001b[0;34m\u001b[0m\u001b[0m\n\u001b[0;32m---> 43\u001b[0;31m                 \u001b[0ma_b_mean_hat\u001b[0m \u001b[0;34m=\u001b[0m \u001b[0mmodel\u001b[0m\u001b[0;34m(\u001b[0m\u001b[0ml_channel\u001b[0m\u001b[0;34m)\u001b[0m\u001b[0;34m\u001b[0m\u001b[0;34m\u001b[0m\u001b[0m\n\u001b[0m\u001b[1;32m     44\u001b[0m \u001b[0;34m\u001b[0m\u001b[0m\n\u001b[1;32m     45\u001b[0m                 \u001b[0;32mif\u001b[0m \u001b[0mtorch\u001b[0m\u001b[0;34m.\u001b[0m\u001b[0mcuda\u001b[0m\u001b[0;34m.\u001b[0m\u001b[0mis_available\u001b[0m\u001b[0;34m(\u001b[0m\u001b[0;34m)\u001b[0m\u001b[0;34m:\u001b[0m\u001b[0;34m\u001b[0m\u001b[0;34m\u001b[0m\u001b[0m\n",
      "\u001b[0;32m/apps/pytorch/1.8.1/lib/python3.9/site-packages/torch/nn/modules/module.py\u001b[0m in \u001b[0;36m_call_impl\u001b[0;34m(self, *input, **kwargs)\u001b[0m\n\u001b[1;32m    887\u001b[0m             \u001b[0mresult\u001b[0m \u001b[0;34m=\u001b[0m \u001b[0mself\u001b[0m\u001b[0;34m.\u001b[0m\u001b[0m_slow_forward\u001b[0m\u001b[0;34m(\u001b[0m\u001b[0;34m*\u001b[0m\u001b[0minput\u001b[0m\u001b[0;34m,\u001b[0m \u001b[0;34m**\u001b[0m\u001b[0mkwargs\u001b[0m\u001b[0;34m)\u001b[0m\u001b[0;34m\u001b[0m\u001b[0;34m\u001b[0m\u001b[0m\n\u001b[1;32m    888\u001b[0m         \u001b[0;32melse\u001b[0m\u001b[0;34m:\u001b[0m\u001b[0;34m\u001b[0m\u001b[0;34m\u001b[0m\u001b[0m\n\u001b[0;32m--> 889\u001b[0;31m             \u001b[0mresult\u001b[0m \u001b[0;34m=\u001b[0m \u001b[0mself\u001b[0m\u001b[0;34m.\u001b[0m\u001b[0mforward\u001b[0m\u001b[0;34m(\u001b[0m\u001b[0;34m*\u001b[0m\u001b[0minput\u001b[0m\u001b[0;34m,\u001b[0m \u001b[0;34m**\u001b[0m\u001b[0mkwargs\u001b[0m\u001b[0;34m)\u001b[0m\u001b[0;34m\u001b[0m\u001b[0;34m\u001b[0m\u001b[0m\n\u001b[0m\u001b[1;32m    890\u001b[0m         for hook in itertools.chain(\n\u001b[1;32m    891\u001b[0m                 \u001b[0m_global_forward_hooks\u001b[0m\u001b[0;34m.\u001b[0m\u001b[0mvalues\u001b[0m\u001b[0;34m(\u001b[0m\u001b[0;34m)\u001b[0m\u001b[0;34m,\u001b[0m\u001b[0;34m\u001b[0m\u001b[0;34m\u001b[0m\u001b[0m\n",
      "\u001b[0;32m~/DLWG/Regressor.py\u001b[0m in \u001b[0;36mforward\u001b[0;34m(self, x)\u001b[0m\n\u001b[1;32m     96\u001b[0m         \u001b[0;32mif\u001b[0m \u001b[0mself\u001b[0m\u001b[0;34m.\u001b[0m\u001b[0mtrain_mode\u001b[0m \u001b[0;34m==\u001b[0m \u001b[0;34m\"regressor\"\u001b[0m\u001b[0;34m:\u001b[0m\u001b[0;34m\u001b[0m\u001b[0;34m\u001b[0m\u001b[0m\n\u001b[1;32m     97\u001b[0m             \u001b[0my_hat\u001b[0m \u001b[0;34m=\u001b[0m \u001b[0mtorch\u001b[0m\u001b[0;34m.\u001b[0m\u001b[0msigmoid\u001b[0m\u001b[0;34m(\u001b[0m\u001b[0mself\u001b[0m\u001b[0;34m.\u001b[0m\u001b[0mlin\u001b[0m\u001b[0;34m(\u001b[0m\u001b[0mfeature_maps\u001b[0m\u001b[0;34m.\u001b[0m\u001b[0mreshape\u001b[0m\u001b[0;34m(\u001b[0m\u001b[0;34m-\u001b[0m\u001b[0;36m1\u001b[0m\u001b[0;34m,\u001b[0m \u001b[0;36m512\u001b[0m \u001b[0;34m*\u001b[0m \u001b[0;36m2\u001b[0m \u001b[0;34m*\u001b[0m \u001b[0;36m2\u001b[0m\u001b[0;34m)\u001b[0m\u001b[0;34m)\u001b[0m\u001b[0;34m)\u001b[0m\u001b[0;34m\u001b[0m\u001b[0;34m\u001b[0m\u001b[0m\n\u001b[0;32m---> 98\u001b[0;31m             \u001b[0;32mreturn\u001b[0m \u001b[0my_hat\u001b[0m\u001b[0;34m\u001b[0m\u001b[0;34m\u001b[0m\u001b[0m\n\u001b[0m\u001b[1;32m     99\u001b[0m \u001b[0;34m\u001b[0m\u001b[0m\n\u001b[1;32m    100\u001b[0m         \u001b[0;32melse\u001b[0m\u001b[0;34m:\u001b[0m\u001b[0;34m\u001b[0m\u001b[0;34m\u001b[0m\u001b[0m\n",
      "\u001b[0;32m/apps/pytorch/1.8.1/lib/python3.9/site-packages/torch/nn/modules/module.py\u001b[0m in \u001b[0;36m_call_impl\u001b[0;34m(self, *input, **kwargs)\u001b[0m\n\u001b[1;32m    887\u001b[0m             \u001b[0mresult\u001b[0m \u001b[0;34m=\u001b[0m \u001b[0mself\u001b[0m\u001b[0;34m.\u001b[0m\u001b[0m_slow_forward\u001b[0m\u001b[0;34m(\u001b[0m\u001b[0;34m*\u001b[0m\u001b[0minput\u001b[0m\u001b[0;34m,\u001b[0m \u001b[0;34m**\u001b[0m\u001b[0mkwargs\u001b[0m\u001b[0;34m)\u001b[0m\u001b[0;34m\u001b[0m\u001b[0;34m\u001b[0m\u001b[0m\n\u001b[1;32m    888\u001b[0m         \u001b[0;32melse\u001b[0m\u001b[0;34m:\u001b[0m\u001b[0;34m\u001b[0m\u001b[0;34m\u001b[0m\u001b[0m\n\u001b[0;32m--> 889\u001b[0;31m             \u001b[0mresult\u001b[0m \u001b[0;34m=\u001b[0m \u001b[0mself\u001b[0m\u001b[0;34m.\u001b[0m\u001b[0mforward\u001b[0m\u001b[0;34m(\u001b[0m\u001b[0;34m*\u001b[0m\u001b[0minput\u001b[0m\u001b[0;34m,\u001b[0m \u001b[0;34m**\u001b[0m\u001b[0mkwargs\u001b[0m\u001b[0;34m)\u001b[0m\u001b[0;34m\u001b[0m\u001b[0;34m\u001b[0m\u001b[0m\n\u001b[0m\u001b[1;32m    890\u001b[0m         for hook in itertools.chain(\n\u001b[1;32m    891\u001b[0m                 \u001b[0m_global_forward_hooks\u001b[0m\u001b[0;34m.\u001b[0m\u001b[0mvalues\u001b[0m\u001b[0;34m(\u001b[0m\u001b[0;34m)\u001b[0m\u001b[0;34m,\u001b[0m\u001b[0;34m\u001b[0m\u001b[0;34m\u001b[0m\u001b[0m\n",
      "\u001b[0;32m/apps/pytorch/1.8.1/lib/python3.9/site-packages/torch/nn/modules/linear.py\u001b[0m in \u001b[0;36mforward\u001b[0;34m(self, input)\u001b[0m\n\u001b[1;32m     92\u001b[0m \u001b[0;34m\u001b[0m\u001b[0m\n\u001b[1;32m     93\u001b[0m     \u001b[0;32mdef\u001b[0m \u001b[0mforward\u001b[0m\u001b[0;34m(\u001b[0m\u001b[0mself\u001b[0m\u001b[0;34m,\u001b[0m \u001b[0minput\u001b[0m\u001b[0;34m:\u001b[0m \u001b[0mTensor\u001b[0m\u001b[0;34m)\u001b[0m \u001b[0;34m->\u001b[0m \u001b[0mTensor\u001b[0m\u001b[0;34m:\u001b[0m\u001b[0;34m\u001b[0m\u001b[0;34m\u001b[0m\u001b[0m\n\u001b[0;32m---> 94\u001b[0;31m         \u001b[0;32mreturn\u001b[0m \u001b[0mF\u001b[0m\u001b[0;34m.\u001b[0m\u001b[0mlinear\u001b[0m\u001b[0;34m(\u001b[0m\u001b[0minput\u001b[0m\u001b[0;34m,\u001b[0m \u001b[0mself\u001b[0m\u001b[0;34m.\u001b[0m\u001b[0mweight\u001b[0m\u001b[0;34m,\u001b[0m \u001b[0mself\u001b[0m\u001b[0;34m.\u001b[0m\u001b[0mbias\u001b[0m\u001b[0;34m)\u001b[0m\u001b[0;34m\u001b[0m\u001b[0;34m\u001b[0m\u001b[0m\n\u001b[0m\u001b[1;32m     95\u001b[0m \u001b[0;34m\u001b[0m\u001b[0m\n\u001b[1;32m     96\u001b[0m     \u001b[0;32mdef\u001b[0m \u001b[0mextra_repr\u001b[0m\u001b[0;34m(\u001b[0m\u001b[0mself\u001b[0m\u001b[0;34m)\u001b[0m \u001b[0;34m->\u001b[0m \u001b[0mstr\u001b[0m\u001b[0;34m:\u001b[0m\u001b[0;34m\u001b[0m\u001b[0;34m\u001b[0m\u001b[0m\n",
      "\u001b[0;32m/apps/pytorch/1.8.1/lib/python3.9/site-packages/torch/nn/functional.py\u001b[0m in \u001b[0;36mlinear\u001b[0;34m(input, weight, bias)\u001b[0m\n\u001b[1;32m   1751\u001b[0m     \u001b[0;32mif\u001b[0m \u001b[0mhas_torch_function_variadic\u001b[0m\u001b[0;34m(\u001b[0m\u001b[0minput\u001b[0m\u001b[0;34m,\u001b[0m \u001b[0mweight\u001b[0m\u001b[0;34m)\u001b[0m\u001b[0;34m:\u001b[0m\u001b[0;34m\u001b[0m\u001b[0;34m\u001b[0m\u001b[0m\n\u001b[1;32m   1752\u001b[0m         \u001b[0;32mreturn\u001b[0m \u001b[0mhandle_torch_function\u001b[0m\u001b[0;34m(\u001b[0m\u001b[0mlinear\u001b[0m\u001b[0;34m,\u001b[0m \u001b[0;34m(\u001b[0m\u001b[0minput\u001b[0m\u001b[0;34m,\u001b[0m \u001b[0mweight\u001b[0m\u001b[0;34m)\u001b[0m\u001b[0;34m,\u001b[0m \u001b[0minput\u001b[0m\u001b[0;34m,\u001b[0m \u001b[0mweight\u001b[0m\u001b[0;34m,\u001b[0m \u001b[0mbias\u001b[0m\u001b[0;34m=\u001b[0m\u001b[0mbias\u001b[0m\u001b[0;34m)\u001b[0m\u001b[0;34m\u001b[0m\u001b[0;34m\u001b[0m\u001b[0m\n\u001b[0;32m-> 1753\u001b[0;31m     \u001b[0;32mreturn\u001b[0m \u001b[0mtorch\u001b[0m\u001b[0;34m.\u001b[0m\u001b[0m_C\u001b[0m\u001b[0;34m.\u001b[0m\u001b[0m_nn\u001b[0m\u001b[0;34m.\u001b[0m\u001b[0mlinear\u001b[0m\u001b[0;34m(\u001b[0m\u001b[0minput\u001b[0m\u001b[0;34m,\u001b[0m \u001b[0mweight\u001b[0m\u001b[0;34m,\u001b[0m \u001b[0mbias\u001b[0m\u001b[0;34m)\u001b[0m\u001b[0;34m\u001b[0m\u001b[0;34m\u001b[0m\u001b[0m\n\u001b[0m\u001b[1;32m   1754\u001b[0m \u001b[0;34m\u001b[0m\u001b[0m\n\u001b[1;32m   1755\u001b[0m \u001b[0;34m\u001b[0m\u001b[0m\n",
      "\u001b[0;31mRuntimeError\u001b[0m: mat1 dim 1 must match mat2 dim 0"
     ]
    }
   ],
   "source": [
    "\n",
    "device, is_cuda_present, num_workers = get_device()\n",
    "train_regressor(trainloader,device)"
   ]
  },
  {
   "cell_type": "code",
   "execution_count": null,
   "metadata": {},
   "outputs": [],
   "source": [
    "test_regressor(testloader,device)"
   ]
  },
  {
   "cell_type": "code",
   "execution_count": null,
   "metadata": {},
   "outputs": [],
   "source": []
  }
 ],
 "metadata": {
  "kernelspec": {
   "display_name": "PyTorch-1.8.1",
   "language": "python",
   "name": "pytorch-1.8.1"
  },
  "language_info": {
   "codemirror_mode": {
    "name": "ipython",
    "version": 3
   },
   "file_extension": ".py",
   "mimetype": "text/x-python",
   "name": "python",
   "nbconvert_exporter": "python",
   "pygments_lexer": "ipython3",
   "version": "3.9.5"
  }
 },
 "nbformat": 4,
 "nbformat_minor": 4
}
