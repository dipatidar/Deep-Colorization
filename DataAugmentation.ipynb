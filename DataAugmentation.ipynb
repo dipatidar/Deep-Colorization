{
 "cells": [
  {
   "cell_type": "markdown",
   "metadata": {},
   "source": [
    "# Data Augmentation\n"
   ]
  },
  {
   "cell_type": "code",
   "execution_count": 8,
   "metadata": {},
   "outputs": [
    {
     "name": "stdout",
     "output_type": "stream",
     "text": [
      "/blue/cis6930/runninggator/Colorization/DLWG\n"
     ]
    }
   ],
   "source": [
    "!pwd"
   ]
  },
  {
   "cell_type": "code",
   "execution_count": 9,
   "metadata": {},
   "outputs": [],
   "source": [
    "#!pip install opencv-python\n",
    "\n",
    "import cv2\n",
    "import os\n",
    "import glob\n",
    "import torch\n",
    "import random\n",
    "import torchvision.transforms as transforms\n",
    "import torchvision\n",
    "import numpy as np\n",
    "\n",
    "torch.set_default_tensor_type(torch.FloatTensor)"
   ]
  },
  {
   "cell_type": "code",
   "execution_count": 10,
   "metadata": {},
   "outputs": [],
   "source": [
    "img_dir = './DataSet/'\n",
    "train_img_dir = './TrainSet/'\n",
    "test_img_dir = './TestSet/'"
   ]
  },
  {
   "cell_type": "code",
   "execution_count": 11,
   "metadata": {},
   "outputs": [
    {
     "data": {
      "text/plain": [
       "\"\\nimg_dir = './DataSet/'\\ntrain_img_dir = './TrainSet/'\\ntest_img_dir = './TestSet/'\\n\""
      ]
     },
     "execution_count": 11,
     "metadata": {},
     "output_type": "execute_result"
    }
   ],
   "source": [
    "\n",
    "img_dir = './DataSet/'\n",
    "train_img_dir = './TrainSet/'\n",
    "test_img_dir = './TestSet/'\n"
     
    "dirs = [img_dir, train_img_dir, test_img_dir]\n",
    "for my_dir in dirs:\n",
    "    if not os.path.exists(my_dir):\n",
    "        os.makedirs(my_dir)"
   ]
  },
  {
   "cell_type": "code",
   "execution_count": 12,
   "metadata": {},
   "outputs": [],
   "source": [
    "\n",
    "verticalFlip = transforms.Compose([\n",
    "    transforms.ToPILImage(),\n",
    "    transforms.Resize((128, 128)),\n",
    "    transforms.RandomVerticalFlip(p=1.0),\n",
    "    transforms.Resize((128, 128))\n",
    "])\n",
    "\n",
    "horizontalFlip = transforms.Compose([\n",
    "    transforms.ToPILImage(),\n",
    "    transforms.Resize((128, 128)),\n",
    "    transforms.RandomHorizontalFlip(p=1.0),\n",
    "    transforms.Resize((128, 128))\n",
    "])\n",
    "\n",
    "randomCrop = transforms.Compose([\n",
    "    transforms.ToPILImage(),\n",
    "    transforms.Resize((128, 128)),\n",
    "    transforms.RandomCrop((64, 64)),\n",
    "    transforms.Resize((128,128))\n",
    "])\n",
    "\n",
    "randomRot = transforms.Compose([\n",
    "    transforms.ToPILImage(),\n",
    "    transforms.Resize((128, 128)),\n",
    "    transforms.RandomRotation(degrees=(-90, 90)),\n",
    "    transforms.Resize((128,128))\n",
    "])\n",
    "\n",
    "def scaling(image):\n",
    "    B,G,R = cv2.split(image)\n",
    "    for ir, row in enumerate(R):\n",
    "        for ic, col in enumerate(row):\n",
    "            R[ir][ic]= R[ir][ic]/2.5\n",
    "            G[ir][ic]= G[ir][ic]/2.5\n",
    "            B[ir][ic]= B[ir][ic]/2.5\n",
    "    merged_img = cv2.merge([B,G,R])\n",
    "    return merged_img\n",
    "    "
   ]
  },
  {
   "cell_type": "code",
   "execution_count": 13,
   "metadata": {},
   "outputs": [],
   "source": [
    "dirs = [img_dir, train_img_dir, test_img_dir]\n",
    "for my_dir in dirs:\n",
    "    if not os.path.exists(my_dir):\n",
    "        os.makedirs(my_dir)"
   ]
  },
  {
   "cell_type": "code",
   "execution_count": 14,
   "metadata": {},
   "outputs": [],
   "source": [
    "def data_augment(img_dir,train_img_dir,test_img_dir):\n",
    "    img_file_dir = img_dir + '*.jpg'\n",
    "    files = glob.glob(img_file_dir)\n",
    "    random.shuffle(files)\n",
    "    c = 0\n",
    "    for i in files:\n",
    "        img = cv2.imread(i)\n",
    "        if (c < 675):\n",
    "            cv2.imwrite((i.replace(img_dir,train_img_dir)).replace(\".jpg\",\"_0.jpg\"), np.asarray(img, dtype = \"uint8\"))\n",
    "            cv2.imwrite((i.replace(img_dir,train_img_dir)).replace(\".jpg\",\"_1.jpg\"), np.asarray(horizontalFlip(img), dtype = \"uint8\"))\n",
    "            cv2.imwrite((i.replace(img_dir,train_img_dir)).replace(\".jpg\",\"_2.jpg\"), np.asarray(verticalFlip(img), dtype = \"uint8\"))\n",
    "            cv2.imwrite((i.replace(img_dir,train_img_dir)).replace(\".jpg\",\"_3.jpg\"), np.asarray(randomCrop(img), dtype = \"uint8\"))\n",
    "            cv2.imwrite((i.replace(img_dir,train_img_dir)).replace(\".jpg\",\"_4.jpg\"), np.asarray(randomRot(img), dtype = \"uint8\"))\n",
    "            cv2.imwrite((i.replace(img_dir,train_img_dir)).replace(\".jpg\",\"_5.jpg\"), np.asarray(randomCrop(np.asarray(verticalFlip(img), dtype = \"uint8\")), dtype = \"uint8\"))\n",
    "            cv2.imwrite((i.replace(img_dir,train_img_dir)).replace(\".jpg\",\"_6.jpg\"), np.asarray(randomCrop(np.asarray(horizontalFlip(img), dtype = \"uint8\")), dtype = \"uint8\"))\n",
    "            cv2.imwrite((i.replace(img_dir,train_img_dir)).replace(\".jpg\",\"_7.jpg\"), np.asarray(randomCrop(np.asarray(randomRot(img), dtype = \"uint8\")), dtype = \"uint8\"))\n",
    "            cv2.imwrite((i.replace(img_dir,train_img_dir)).replace(\".jpg\",\"_8.jpg\"), np.asarray(randomRot(np.asarray(verticalFlip(img), dtype = \"uint8\")), dtype = \"uint8\"))\n",
    "            cv2.imwrite((i.replace(img_dir,train_img_dir)).replace(\".jpg\",\"_9.jpg\"), np.asarray(randomRot(np.asarray(horizontalFlip(img), dtype = \"uint8\")), dtype = \"uint8\")) \n",
    "        else: \n",
    "            cv2.imwrite((i.replace(img_dir,test_img_dir)).replace(\".jpg\",\"_0.jpg\"), np.asarray(img, dtype = \"uint8\"))\n",
    "        c = c + 1\n",
    "\n",
    "        "
   ]
  },
  {
   "cell_type": "code",
   "execution_count": 14,
   "metadata": {},
   "outputs": [],
   "source": [
    "data_augment(img_dir,train_img_dir,test_img_dir)"
   ]
  }
 ],
 "metadata": {
  "kernelspec": {
   "display_name": "custom_torch_11_3",
   "language": "python",
   "name": "custom_torch_11_3"
  },
  "language_info": {
   "codemirror_mode": {
    "name": "ipython",
    "version": 3
   },
   "file_extension": ".py",
   "mimetype": "text/x-python",
   "name": "python",
   "nbconvert_exporter": "python",
   "pygments_lexer": "ipython3",
   "version": "3.7.10"
  }
 },
 "nbformat": 4,
 "nbformat_minor": 4
}
