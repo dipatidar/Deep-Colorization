{
 "cells": [
  {
   "cell_type": "markdown",
   "metadata": {},
   "source": [
    "# Data Augmentation\n"
   ]
  },
  {
   "cell_type": "code",
   "execution_count": 31,
   "metadata": {},
   "outputs": [],
   "source": [
    "#!pip install opencv-python\n",
    "\n",
    "import cv2\n",
    "import os\n",
    "import glob\n",
    "import torch\n",
    "import torchvision.transforms as transforms\n",
    "import torchvision\n",
    "import numpy as np\n",
    "\n",
    "torch.set_default_tensor_type(torch.FloatTensor)"
   ]
  },
  {
   "cell_type": "code",
   "execution_count": 32,
   "metadata": {},
   "outputs": [],
   "source": [
    "img_dir = '/home/sheelaippili/DLWG/DataSet/'\n",
    "aug_img_dir = '/home/sheelaippili/DLWG/Augmented_DataSet/'"
   ]
  },
  {
   "cell_type": "code",
   "execution_count": 33,
   "metadata": {},
   "outputs": [],
   "source": [
    "'''\n",
    "rotate = transforms.Compose([\n",
    "    transforms.ToPILImage(),\n",
    "    transforms.Resize((128, 128)),\n",
    "    transforms.RandomRotation(degrees=(-90, 90)),\n",
    "])\n",
    "'''\n",
    "verticalFlip = transforms.Compose([\n",
    "    transforms.ToPILImage(),\n",
    "    transforms.Resize((128, 128)),\n",
    "    transforms.RandomVerticalFlip(p=1.0),\n",
    "    transforms.Resize((128, 128))\n",
    "])\n",
    "\n",
    "horizontalFlip = transforms.Compose([\n",
    "    transforms.ToPILImage(),\n",
    "    transforms.Resize((128, 128)),\n",
    "    transforms.RandomHorizontalFlip(p=1.0),\n",
    "    transforms.Resize((128, 128))\n",
    "])\n",
    "randomCrop = transforms.Compose([\n",
    "    transforms.ToPILImage(),\n",
    "    transforms.Resize((128, 128)),\n",
    "    transforms.RandomCrop((64, 64)),\n",
    "    transforms.Resize((128,128))\n",
    "])\n",
    "\n",
    "normalization = transforms.Compose([\n",
    "    #transforms.ToPILImage(),\n",
    "    transforms.Resize((128, 128)),\n",
    "    transforms.Normalize(mean=[0.400, 0.400, 0.400],std=[0.200, 0.200, 0.200]),\n",
    "    transforms.Resize((128,128))\n",
    "])\n",
    "\n"
   ]
  },
  {
   "cell_type": "code",
   "execution_count": 34,
   "metadata": {},
   "outputs": [],
   "source": [
    "def data_augment(img_dir,aug_img_dir):\n",
    "    img_file_dir = img_dir + '*.jpg'\n",
    "    files = glob.glob(img_file_dir)\n",
    "    c = 0\n",
    "    for i in files:\n",
    "        if (c < 1):\n",
    "            img = cv2.imread(i)\n",
    "            image = cv2.imread(i)\n",
    "            (B, G, R) = cv2.split(image)\n",
    "            print (R.shape)\n",
    "            print (G.shape)\n",
    "            print (B.shape)\n",
    "            for i in \n",
    "            #print (G)\n",
    "            #print (B)\n",
    "            cv2.imwrite((i.replace(img_dir,aug_img_dir)).replace(\".jpg\",\"_0.jpg\"), np.asarray(img, dtype = \"uint8\"))\n",
    "            cv2.imwrite((i.replace(img_dir,aug_img_dir)).replace(\".jpg\",\"_1.jpg\"), np.asarray(horizontalFlip(img), dtype = \"uint8\"))\n",
    "            cv2.imwrite((i.replace(img_dir,aug_img_dir)).replace(\".jpg\",\"_2.jpg\"), np.asarray(verticalFlip(img), dtype = \"uint8\"))\n",
    "            cv2.imwrite((i.replace(img_dir,aug_img_dir)).replace(\".jpg\",\"_3.jpg\"), np.asarray(randomCrop(img), dtype = \"uint8\"))\n",
    "            cv2.imwrite((i.replace(img_dir,aug_img_dir)).replace(\".jpg\",\"_5.jpg\"), np.asarray(randomCrop(np.asarray(verticalFlip(img), dtype = \"uint8\")), dtype = \"uint8\"))\n",
    "            cv2.imwrite((i.replace(img_dir,aug_img_dir)).replace(\".jpg\",\"_6.jpg\"), np.asarray(randomCrop(np.asarray(horizontalFlip(img), dtype = \"uint8\")), dtype = \"uint8\"))\n",
    "            c = c+1\n",
    "            \n",
    "\n",
    "\n",
    "\n",
    "            \n",
    "        \n",
    "        \n",
    "\n",
    "        "
   ]
  },
  {
   "cell_type": "code",
   "execution_count": 35,
   "metadata": {},
   "outputs": [
    {
     "name": "stdout",
     "output_type": "stream",
     "text": [
      "(128, 128)\n",
      "(128, 128)\n",
      "(128, 128)\n"
     ]
    }
   ],
   "source": [
    "data_augment(img_dir,aug_img_dir)"
   ]
  }
 ],
 "metadata": {
  "kernelspec": {
   "display_name": "PyTorch-1.8.1",
   "language": "python",
   "name": "pytorch-1.8.1"
  },
  "language_info": {
   "codemirror_mode": {
    "name": "ipython",
    "version": 3
   },
   "file_extension": ".py",
   "mimetype": "text/x-python",
   "name": "python",
   "nbconvert_exporter": "python",
   "pygments_lexer": "ipython3",
   "version": "3.9.5"
  }
 },
 "nbformat": 4,
 "nbformat_minor": 4
}
