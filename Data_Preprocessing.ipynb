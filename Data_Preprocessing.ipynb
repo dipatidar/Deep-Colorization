{
 "cells": [
  {
   "cell_type": "code",
   "execution_count": 15,
   "metadata": {},
   "outputs": [],
   "source": [
    "#!pip install opencv-python\n",
    "\n",
    "import cv2\n",
    "import os\n",
    "import glob\n",
    "import torch\n",
    "import torchvision.transforms as transforms\n",
    "import numpy as np\n",
    "torch.set_default_tensor_type(torch.FloatTensor)\n",
    "\n",
    "DIPALI_HOME = '/home/dipali.patidar/DLWG/DataSet/*.jpg'\n",
    "IMAGE_HEIGHT = 128\n",
    "IMAGE_WIDTH = 128\n",
    "# OpenCV channel order - BGR"
   ]
  },
  {
   "cell_type": "code",
   "execution_count": 36,
   "metadata": {},
   "outputs": [],
   "source": [
    "def image_modification(file,nimages):\n",
    "    img = cv2.imread(file)\n",
    "\n",
    "    #Resize to respect the input_shape\n",
    "    #inp = cv2.resize(img, (IMAGE_WIDTH , IMAGE_HEIGHT))\n",
    "\n",
    "    #Convert img to RGB\n",
    "    #rgb = cv2.cvtColor(inp, cv2.COLOR_BGR2RGB)\n",
    "    \n",
    "    return img\n",
    "    \n",
    "\n",
    "def read_images_to_tensor(filepath):\n",
    "    \n",
    "    files = glob.glob(filepath)\n",
    "    nimages = len(files)\n",
    "    data = []\n",
    "    #print(files)\n",
    "    for f1 in files:\n",
    "        #cv2.imshow('image',img)\n",
    "        data.append(image_modification(f1,nimages))\n",
    "    return torch.tensor(data)\n",
    "\n",
    "\n"
   ]
  },
  {
   "cell_type": "code",
   "execution_count": 37,
   "metadata": {},
   "outputs": [],
   "source": [
    "data_tensor = read_images_to_tensor(DIPALI_HOME)"
   ]
  },
  {
   "cell_type": "code",
   "execution_count": 38,
   "metadata": {},
   "outputs": [
    {
     "data": {
      "text/plain": [
       "torch.Size([750, 128, 128, 3])"
      ]
     },
     "execution_count": 38,
     "metadata": {},
     "output_type": "execute_result"
    }
   ],
   "source": [
    "#data_tensor = torch.randperm()\n",
    "data_tensor.size()"
   ]
  },
  {
   "cell_type": "code",
   "execution_count": null,
   "metadata": {},
   "outputs": [],
   "source": []
  }
 ],
 "metadata": {
  "kernelspec": {
   "display_name": "PyTorch-1.8.1",
   "language": "python",
   "name": "pytorch-1.8.1"
  },
  "language_info": {
   "codemirror_mode": {
    "name": "ipython",
    "version": 3
   },
   "file_extension": ".py",
   "mimetype": "text/x-python",
   "name": "python",
   "nbconvert_exporter": "python",
   "pygments_lexer": "ipython3",
   "version": "3.9.5"
  }
 },
 "nbformat": 4,
 "nbformat_minor": 4
}
