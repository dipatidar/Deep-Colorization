{
 "cells": [
  {
   "cell_type": "markdown",
   "metadata": {},
   "source": [
    "# Define imports"
   ]
  },
  {
   "cell_type": "code",
   "execution_count": 10,
   "metadata": {},
   "outputs": [],
   "source": [
    "#!pip install opencv-python\n",
    "import os\n",
    "import cv2\n",
    "import os\n",
    "import glob\n",
    "import numpy as np\n",
    "from Regressor_Model_Controller import Regressor_Model_Controller\n",
    "import matplotlib.pyplot as plt\n",
    "import torchvision.datasets as datasets\n",
    "import torch\n",
    "import torchvision.transforms as transforms\n",
    "import math\n",
    "import random\n",
    "\n",
    "\n",
    "torch.set_default_tensor_type(torch.FloatTensor)"
   ]
  },
  {
   "cell_type": "markdown",
   "metadata": {},
   "source": [
    "# Define constants"
   ]
  },
  {
   "cell_type": "code",
   "execution_count": 17,
   "metadata": {},
   "outputs": [],
   "source": [
    "\n",
    "DIPALI_HOME = './DLWG/DataSet/*.jpg'\n",
    "IMAGE_HEIGHT = 128\n",
    "IMAGE_WIDTH = 128\n",
    "REGRESSOR_SAVED_MODEL_PATH= './Model/Regressor/Regressor.pth'\n",
    "REGRESSOR_EPOCH = 75\n",
    "REGRESSOR_LOSS_PLOT_PATH = \"./Plots/Regressor/Regressor_Loss_plot\"\n",
    "REGRESSOR_LR = 0.0001\n",
    "REGRESSOR_WEIGHT_DECAY = 1e-5\n",
    "REGRESSOR_IN_CHANNEL = 1\n",
    "REGRESSOR_HIDDEN_CHANNEL = 3\n",
    "REGRESSOR_OUT_DIMS = 2\n",
    "REGRESSOR_BATCH_SIZE_CPU = 32\n",
    "REGRESSOR_BATCH_SIZE_CUDA = 32\n",
    "\n",
    "os.makedirs(\"./Model/Regressor/\", exist_ok=True)\n",
    "os.makedirs(\"./Plots/Regressor/\",exist_ok=True)"
   ]
  },
  {
   "cell_type": "markdown",
   "metadata": {},
   "source": [
    "# Use GPU if available"
   ]
  },
  {
   "cell_type": "code",
   "execution_count": 3,
   "metadata": {},
   "outputs": [],
   "source": [
    "def get_device():\n",
    "        device = torch.device(\"cuda:0\" if torch.cuda.is_available() else \"cpu\")\n",
    "        is_cuda_present = True if torch.cuda.is_available() else False\n",
    "        num_workers = 8 if is_cuda_present else 0\n",
    "\n",
    "        return device, is_cuda_present, num_workers"
   ]
  },
  {
   "cell_type": "markdown",
   "metadata": {},
   "source": [
    "# Load image data from folder"
   ]
  },
  {
   "cell_type": "code",
   "execution_count": 4,
   "metadata": {},
   "outputs": [],
   "source": [
    "def image_modification(file,nimages):\n",
    "    img = cv2.imread(file)\n",
    "\n",
    "    #Resize to respect the input_shape\n",
    "    inp = cv2.resize(img, (IMAGE_WIDTH , IMAGE_HEIGHT))\n",
    "\n",
    "    #Convert img to RGB\n",
    "    rgb = cv2.cvtColor(inp, cv2.COLOR_BGR2RGB)\n",
    "    \n",
    "    return img\n",
    "    \n",
    "\n",
    "def read_images_to_tensor(filepath):\n",
    "    \n",
    "    files = glob.glob(filepath)\n",
    "    nimages = len(files)\n",
    "    data = []\n",
    "    #print(files)\n",
    "    for f1 in files:\n",
    "        #cv2.imshow('image',img)\n",
    "        data.append(image_modification(f1,nimages))\n",
    "    return torch.tensor(data)\n",
    "\n",
    "\n",
    "data_tensor = read_images_to_tensor(DIPALI_HOME)"
   ]
  },
  {
   "cell_type": "markdown",
   "metadata": {},
   "source": [
    "# Define input and output directories"
   ]
  },
  {
   "cell_type": "code",
   "execution_count": 5,
   "metadata": {},
   "outputs": [],
   "source": [
    "data_set_dir = './DataSet'\n",
    "image_paths = os.listdir(data_set_dir)\n",
    "image_paths = [image_path for image_path in image_paths if image_path.endswith('.jpg')]\n",
    "random.shuffle(image_paths)\n",
    "image_data = [cv2.imread(os.path.join(data_set_dir, image_path)) for image_path in image_paths]"
   ]
  },
  {
   "cell_type": "markdown",
   "metadata": {},
   "source": [
    "# Convert images to LAB color space¶"
   ]
  },
  {
   "cell_type": "code",
   "execution_count": 6,
   "metadata": {},
   "outputs": [],
   "source": [
    "transformed_image_data = []\n",
    "\n",
    "transform_color = transforms.Compose([transforms.ToTensor()])\n",
    "\n",
    "for image_path in image_paths:\n",
    "    image = cv2.imread(os.path.join(data_set_dir, image_path))\n",
    "    imageLAB = cv2.cvtColor(image, cv2.COLOR_RGB2LAB)\n",
    "    #print(imageLAB.shape)\n",
    "    image_lab = transform_color(image)\n",
    "    image_gray = image_lab[0:1,:,:]\n",
    "\n",
    "    image_a = image_lab[1:2, :, :]\n",
    "    #print(image_a.shape)\n",
    "\n",
    "    image_b = image_lab[2:3, :, :]\n",
    "    #print(image_b.shape)\n",
    "    #print(image_b)\n",
    "    #plt.imshow(image_b)\n",
    "    #plt.show()\n",
    "    \n",
    "\n",
    "    transformed_image_data.append((image_gray, image_a, image_b))\n"
   ]
  },
  {
   "cell_type": "code",
   "execution_count": 17,
   "metadata": {},
   "outputs": [
    {
     "data": {
      "text/plain": [
       "[(tensor([[[0.1882, 0.1490, 0.0863,  ..., 0.0510, 0.0314, 0.0471],\n",
       "           [0.1608, 0.1098, 0.0510,  ..., 0.0706, 0.0431, 0.0471],\n",
       "           [0.1137, 0.0706, 0.0549,  ..., 0.0745, 0.0510, 0.0353],\n",
       "           ...,\n",
       "           [0.0431, 0.0471, 0.0627,  ..., 0.0627, 0.0510, 0.0588],\n",
       "           [0.0431, 0.0431, 0.0510,  ..., 0.0588, 0.0471, 0.0588],\n",
       "           [0.0431, 0.0549, 0.0549,  ..., 0.0471, 0.0588, 0.0510]]]),\n",
       "  tensor([[[0.2000, 0.1608, 0.0941,  ..., 0.0510, 0.0314, 0.0471],\n",
       "           [0.1725, 0.1216, 0.0588,  ..., 0.0706, 0.0431, 0.0471],\n",
       "           [0.1137, 0.0745, 0.0588,  ..., 0.0667, 0.0510, 0.0353],\n",
       "           ...,\n",
       "           [0.1255, 0.1294, 0.1412,  ..., 0.1294, 0.1255, 0.1333],\n",
       "           [0.1294, 0.1294, 0.1373,  ..., 0.1333, 0.1216, 0.1333],\n",
       "           [0.1294, 0.1412, 0.1412,  ..., 0.1216, 0.1333, 0.1255]]]),\n",
       "  tensor([[[0.2588, 0.2157, 0.1333,  ..., 0.0510, 0.0314, 0.0471],\n",
       "           [0.2314, 0.1765, 0.0980,  ..., 0.0706, 0.0431, 0.0471],\n",
       "           [0.1765, 0.1294, 0.0980,  ..., 0.0667, 0.0510, 0.0353],\n",
       "           ...,\n",
       "           [0.2471, 0.2510, 0.2627,  ..., 0.2588, 0.2549, 0.2627],\n",
       "           [0.2392, 0.2392, 0.2471,  ..., 0.2627, 0.2510, 0.2627],\n",
       "           [0.2392, 0.2510, 0.2510,  ..., 0.2510, 0.2627, 0.2549]]])),\n",
       " (tensor([[[0.0667, 0.0667, 0.0706,  ..., 0.0314, 0.0275, 0.0431],\n",
       "           [0.0667, 0.0588, 0.0627,  ..., 0.0275, 0.0314, 0.0353],\n",
       "           [0.0667, 0.0588, 0.0549,  ..., 0.0431, 0.0431, 0.0275],\n",
       "           ...,\n",
       "           [0.1804, 0.2471, 0.3569,  ..., 0.2275, 0.4863, 0.5176],\n",
       "           [0.1804, 0.2314, 0.3451,  ..., 0.1529, 0.3569, 0.5059],\n",
       "           [0.1725, 0.2157, 0.3216,  ..., 0.0824, 0.2510, 0.4941]]]),\n",
       "  tensor([[[0.1451, 0.1451, 0.1412,  ..., 0.0627, 0.0549, 0.0706],\n",
       "           [0.1451, 0.1373, 0.1333,  ..., 0.0588, 0.0588, 0.0627],\n",
       "           [0.1451, 0.1373, 0.1255,  ..., 0.0667, 0.0706, 0.0549],\n",
       "           ...,\n",
       "           [0.2078, 0.2745, 0.3765,  ..., 0.2471, 0.5176, 0.5490],\n",
       "           [0.2118, 0.2627, 0.3647,  ..., 0.1725, 0.3882, 0.5373],\n",
       "           [0.2039, 0.2471, 0.3412,  ..., 0.1020, 0.2824, 0.5255]]]),\n",
       "  tensor([[[0.2667, 0.2667, 0.2627,  ..., 0.0588, 0.0431, 0.0588],\n",
       "           [0.2667, 0.2588, 0.2549,  ..., 0.0549, 0.0471, 0.0510],\n",
       "           [0.2667, 0.2588, 0.2392,  ..., 0.0627, 0.0588, 0.0431],\n",
       "           ...,\n",
       "           [0.2196, 0.2863, 0.3882,  ..., 0.2510, 0.5176, 0.5490],\n",
       "           [0.2118, 0.2627, 0.3686,  ..., 0.1765, 0.3882, 0.5373],\n",
       "           [0.2000, 0.2431, 0.3451,  ..., 0.1059, 0.2824, 0.5255]]])),\n",
       " (tensor([[[0.1412, 0.1216, 0.1098,  ..., 0.0784, 0.0784, 0.0745],\n",
       "           [0.1569, 0.1373, 0.1059,  ..., 0.0784, 0.0745, 0.0667],\n",
       "           [0.1490, 0.1137, 0.0902,  ..., 0.0706, 0.0627, 0.0667],\n",
       "           ...,\n",
       "           [0.0627, 0.0314, 0.0431,  ..., 0.8510, 0.8431, 0.8510],\n",
       "           [0.0667, 0.0353, 0.0353,  ..., 0.8549, 0.8667, 0.8588],\n",
       "           [0.0745, 0.0353, 0.0353,  ..., 0.8980, 0.8863, 0.8706]]]),\n",
       "  tensor([[[0.2275, 0.2078, 0.1843,  ..., 0.1137, 0.1098, 0.1098],\n",
       "           [0.2314, 0.2118, 0.1725,  ..., 0.1020, 0.1059, 0.1020],\n",
       "           [0.2039, 0.1686, 0.1451,  ..., 0.0980, 0.0980, 0.1020],\n",
       "           ...,\n",
       "           [0.0745, 0.0431, 0.0549,  ..., 0.8314, 0.8196, 0.8275],\n",
       "           [0.0784, 0.0471, 0.0471,  ..., 0.8314, 0.8353, 0.8275],\n",
       "           [0.0863, 0.0471, 0.0471,  ..., 0.8745, 0.8549, 0.8392]]]),\n",
       "  tensor([[[0.3373, 0.3176, 0.2902,  ..., 0.1529, 0.1608, 0.1647],\n",
       "           [0.3373, 0.3176, 0.2745,  ..., 0.1451, 0.1569, 0.1529],\n",
       "           [0.2941, 0.2588, 0.2314,  ..., 0.1333, 0.1373, 0.1412],\n",
       "           ...,\n",
       "           [0.1059, 0.0745, 0.0863,  ..., 0.8275, 0.8235, 0.8314],\n",
       "           [0.1098, 0.0784, 0.0784,  ..., 0.8353, 0.8392, 0.8314],\n",
       "           [0.1176, 0.0784, 0.0784,  ..., 0.8784, 0.8588, 0.8431]]])),\n",
       " (tensor([[[0.0902, 0.0627, 0.0784,  ..., 0.0824, 0.0824, 0.0784],\n",
       "           [0.0824, 0.0667, 0.0784,  ..., 0.0902, 0.0627, 0.0549],\n",
       "           [0.0667, 0.0784, 0.0863,  ..., 0.0863, 0.0863, 0.0745],\n",
       "           ...,\n",
       "           [0.1137, 0.0824, 0.1059,  ..., 0.3765, 0.1412, 0.0118],\n",
       "           [0.0980, 0.0784, 0.0902,  ..., 0.3647, 0.1412, 0.0157],\n",
       "           [0.0980, 0.1373, 0.1176,  ..., 0.3725, 0.1725, 0.0039]]]),\n",
       "  tensor([[[0.1020, 0.0745, 0.0863,  ..., 0.1098, 0.1098, 0.1137],\n",
       "           [0.0941, 0.0784, 0.0863,  ..., 0.1098, 0.0902, 0.0902],\n",
       "           [0.0824, 0.0941, 0.0941,  ..., 0.1098, 0.1098, 0.1059],\n",
       "           ...,\n",
       "           [0.2510, 0.2196, 0.2431,  ..., 0.4824, 0.2471, 0.1176],\n",
       "           [0.2314, 0.2118, 0.2275,  ..., 0.4706, 0.2392, 0.1137],\n",
       "           [0.2314, 0.2706, 0.2549,  ..., 0.4784, 0.2706, 0.1020]]]),\n",
       "  tensor([[[0.1176, 0.0902, 0.0902,  ..., 0.1451, 0.1451, 0.1490],\n",
       "           [0.1098, 0.0941, 0.0902,  ..., 0.1451, 0.1255, 0.1255],\n",
       "           [0.0863, 0.0980, 0.0980,  ..., 0.1373, 0.1373, 0.1333],\n",
       "           ...,\n",
       "           [0.3843, 0.3529, 0.3765,  ..., 0.5843, 0.3490, 0.2196],\n",
       "           [0.3725, 0.3529, 0.3608,  ..., 0.5725, 0.3412, 0.2157],\n",
       "           [0.3725, 0.4118, 0.3882,  ..., 0.5804, 0.3725, 0.2039]]])),\n",
       " (tensor([[[0.1216, 0.0863, 0.0549,  ..., 0.0275, 0.0392, 0.0392],\n",
       "           [0.1059, 0.0706, 0.0549,  ..., 0.0196, 0.0392, 0.0471],\n",
       "           [0.0902, 0.0510, 0.0431,  ..., 0.0275, 0.0471, 0.0510],\n",
       "           ...,\n",
       "           [0.1137, 0.1216, 0.1176,  ..., 0.1490, 0.1451, 0.1333],\n",
       "           [0.1098, 0.1059, 0.1176,  ..., 0.1412, 0.1608, 0.1373],\n",
       "           [0.1020, 0.1059, 0.1137,  ..., 0.1451, 0.1686, 0.1412]]]),\n",
       "  tensor([[[0.1216, 0.0902, 0.0549,  ..., 0.0431, 0.0510, 0.0510],\n",
       "           [0.1059, 0.0745, 0.0549,  ..., 0.0353, 0.0510, 0.0627],\n",
       "           [0.0941, 0.0588, 0.0431,  ..., 0.0431, 0.0588, 0.0706],\n",
       "           ...,\n",
       "           [0.1608, 0.1686, 0.1647,  ..., 0.2314, 0.2353, 0.2235],\n",
       "           [0.1569, 0.1529, 0.1608,  ..., 0.2314, 0.2510, 0.2275],\n",
       "           [0.1490, 0.1529, 0.1569,  ..., 0.2353, 0.2588, 0.2314]]]),\n",
       "  tensor([[[0.1843, 0.1451, 0.1098,  ..., 0.0471, 0.0706, 0.0824],\n",
       "           [0.1686, 0.1294, 0.1020,  ..., 0.0392, 0.0706, 0.0824],\n",
       "           [0.1490, 0.1020, 0.0902,  ..., 0.0471, 0.0745, 0.0824],\n",
       "           ...,\n",
       "           [0.2549, 0.2627, 0.2745,  ..., 0.3804, 0.3843, 0.3725],\n",
       "           [0.2510, 0.2471, 0.2706,  ..., 0.3804, 0.4000, 0.3765],\n",
       "           [0.2431, 0.2471, 0.2667,  ..., 0.3843, 0.4078, 0.3804]]]))]"
      ]
     },
     "execution_count": 17,
     "metadata": {},
     "output_type": "execute_result"
    }
   ],
   "source": [
    "#transformed_image_data[:5]"
   ]
  },
  {
   "cell_type": "code",
   "execution_count": 7,
   "metadata": {},
   "outputs": [],
   "source": [
    "test_size=0.1\n",
    "batch_size = REGRESSOR_BATCH_SIZE_CUDA\n",
    "index_test = math.floor(len(image_data) * test_size)\n",
    "\n",
    "# include both color and gray images\n",
    "trainloader = torch.utils.data.DataLoader(transformed_image_data[:index_test], batch_size=batch_size,\n",
    "                                          shuffle=True, num_workers=0)\n",
    "testloader = torch.utils.data.DataLoader(transformed_image_data[index_test:], batch_size=batch_size,\n",
    "                                         shuffle=False, num_workers=0)"
   ]
  },
  {
   "cell_type": "markdown",
   "metadata": {},
   "source": [
    "# Train the Regressor"
   ]
  },
  {
   "cell_type": "code",
   "execution_count": 15,
   "metadata": {},
   "outputs": [],
   "source": [
    "def train_regressor(augmented_dataset_batch, device):\n",
    "        regressor_train_arguments = {\n",
    "            \"data_loader\": augmented_dataset_batch,\n",
    "            \"saved_model_path\": REGRESSOR_SAVED_MODEL_PATH,\n",
    "            \"epochs\": REGRESSOR_EPOCH,\n",
    "            \"learning_rate\": REGRESSOR_LR,\n",
    "            \"weight_decay\": REGRESSOR_WEIGHT_DECAY,\n",
    "            \"in_channel\": REGRESSOR_IN_CHANNEL,\n",
    "            \"hidden_channel\": REGRESSOR_HIDDEN_CHANNEL,\n",
    "            \"out_dims\": REGRESSOR_OUT_DIMS,\n",
    "            \"loss_plot_path\": REGRESSOR_LOSS_PLOT_PATH\n",
    "        }\n",
    "\n",
    "        regressor_manager = Regressor_Model_Controller()\n",
    "        regressor_manager.train(regressor_train_arguments, device)\n",
    "\n",
    "def test_regressor(augmented_dataset_batch, device):\n",
    "        regressor_arguments = {\n",
    "            \"data_loader\": augmented_dataset_batch,\n",
    "            \"saved_model_path\": REGRESSOR_SAVED_MODEL_PATH,\n",
    "            \"in_channel\": REGRESSOR_IN_CHANNEL,\n",
    "            \"hidden_channel\": REGRESSOR_HIDDEN_CHANNEL,\n",
    "            \"out_dims\": REGRESSOR_OUT_DIMS,\n",
    "            \"loss_plot_path\": REGRESSOR_LOSS_PLOT_PATH\n",
    "        }\n",
    "\n",
    "        regressor_manager = Regressor_Model_Controller()\n",
    "        regressor_manager.test(regressor_arguments, device)"
   ]
  },
  {
   "cell_type": "code",
   "execution_count": 19,
   "metadata": {},
   "outputs": [
    {
     "name": "stdout",
     "output_type": "stream",
     "text": [
      "..Regressor training started..\n",
      "1 3 2\n",
      "epoch: 0, loss: 0.06240634247660637\n",
      "epoch: 1, loss: 0.05197205673903227\n",
      "epoch: 2, loss: 0.03328515635803342\n",
      "epoch: 3, loss: 0.031295583583414555\n",
      "epoch: 4, loss: 0.03182175848633051\n",
      "epoch: 5, loss: 0.03041766583919525\n",
      "epoch: 6, loss: 0.024337287060916424\n",
      "epoch: 7, loss: 0.018735202960669994\n",
      "epoch: 8, loss: 0.018919976893812418\n",
      "epoch: 9, loss: 0.01610909914597869\n",
      "epoch: 10, loss: 0.014970219228416681\n",
      "epoch: 11, loss: 0.010565378703176975\n",
      "epoch: 12, loss: 0.006635320954956114\n",
      "epoch: 13, loss: 0.0067693841410800815\n",
      "epoch: 14, loss: 0.005442503024823964\n",
      "epoch: 15, loss: 0.006160974968224764\n",
      "epoch: 16, loss: 0.0036481964925769717\n",
      "epoch: 17, loss: 0.0038652048096992075\n",
      "epoch: 18, loss: 0.0036625814391300082\n",
      "epoch: 19, loss: 0.003440808621235192\n",
      "epoch: 20, loss: 0.0039158950094133615\n",
      "epoch: 21, loss: 0.003516243421472609\n",
      "epoch: 22, loss: 0.002887295209802687\n",
      "epoch: 23, loss: 0.003483320469968021\n",
      "epoch: 24, loss: 0.0029734611744061112\n",
      "epoch: 25, loss: 0.003229921218007803\n",
      "epoch: 26, loss: 0.00335474603343755\n",
      "epoch: 27, loss: 0.0028289983747527003\n",
      "epoch: 28, loss: 0.0029167926986701787\n",
      "epoch: 29, loss: 0.003449485870078206\n",
      "epoch: 30, loss: 0.002634959470015019\n",
      "epoch: 31, loss: 0.002620820188894868\n",
      "epoch: 32, loss: 0.0024957703426480293\n",
      "epoch: 33, loss: 0.002415026247035712\n",
      "epoch: 34, loss: 0.00269482156727463\n",
      "epoch: 35, loss: 0.0024226640816777945\n",
      "epoch: 36, loss: 0.0026627525221556425\n",
      "epoch: 37, loss: 0.00195585482288152\n",
      "epoch: 38, loss: 0.002773041371256113\n",
      "epoch: 39, loss: 0.002486366545781493\n",
      "epoch: 40, loss: 0.002196929417550564\n",
      "epoch: 41, loss: 0.0028658354422077537\n",
      "epoch: 42, loss: 0.0025431838585063815\n",
      "epoch: 43, loss: 0.002611264877486974\n",
      "epoch: 44, loss: 0.0023324275971390307\n",
      "epoch: 45, loss: 0.002349745307583362\n",
      "epoch: 46, loss: 0.0018492128583602607\n",
      "epoch: 47, loss: 0.0017632746748859063\n",
      "epoch: 48, loss: 0.0018200469494331628\n",
      "epoch: 49, loss: 0.0018487864872440696\n",
      "epoch: 50, loss: 0.0018234746530652046\n",
      "epoch: 51, loss: 0.002499757014447823\n",
      "epoch: 52, loss: 0.0019051373819820583\n",
      "epoch: 53, loss: 0.0022204387933015823\n",
      "epoch: 54, loss: 0.0023969816975295544\n",
      "epoch: 55, loss: 0.0021080232691019773\n",
      "epoch: 56, loss: 0.002488119702320546\n",
      "epoch: 57, loss: 0.0020114451181143522\n",
      "epoch: 58, loss: 0.0018929183715954423\n",
      "epoch: 59, loss: 0.001702762849163264\n",
      "epoch: 60, loss: 0.0018929940997622907\n",
      "epoch: 61, loss: 0.0017370383138768375\n",
      "epoch: 62, loss: 0.0016501621867064387\n",
      "epoch: 63, loss: 0.0018612119311001152\n",
      "epoch: 64, loss: 0.0014716849254909903\n",
      "epoch: 65, loss: 0.001782968669431284\n",
      "epoch: 66, loss: 0.0019472839194349945\n",
      "epoch: 67, loss: 0.0019069402769673616\n",
      "epoch: 68, loss: 0.001803718216251582\n",
      "epoch: 69, loss: 0.0014781094796489924\n",
      "epoch: 70, loss: 0.0014319156180135906\n",
      "epoch: 71, loss: 0.0013524914102163166\n",
      "epoch: 72, loss: 0.0014945252623874694\n",
      "epoch: 73, loss: 0.0012385108275339007\n",
      "epoch: 74, loss: 0.0015143664786592126\n"
     ]
    },
    {
     "data": {
      "text/plain": [
       "<Figure size 432x288 with 0 Axes>"
      ]
     },
     "metadata": {},
     "output_type": "display_data"
    }
   ],
   "source": [
    "device, is_cuda_present, num_workers = get_device()\n",
    "train_regressor(trainloader,device)"
   ]
  },
  {
   "cell_type": "code",
   "execution_count": null,
   "metadata": {},
   "outputs": [],
   "source": []
  }
 ],
 "metadata": {
  "kernelspec": {
   "display_name": "PyTorch-1.8.1",
   "language": "python",
   "name": "pytorch-1.8.1"
  },
  "language_info": {
   "codemirror_mode": {
    "name": "ipython",
    "version": 3
   },
   "file_extension": ".py",
   "mimetype": "text/x-python",
   "name": "python",
   "nbconvert_exporter": "python",
   "pygments_lexer": "ipython3",
   "version": "3.9.5"
  }
 },
 "nbformat": 4,
 "nbformat_minor": 4
}
