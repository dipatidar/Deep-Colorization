{
 "cells": [
  {
   "cell_type": "markdown",
   "id": "70e27916-94e3-460d-8aee-b4f2d89bbacd",
   "metadata": {},
   "source": [
    "# Data Preprocessing"
   ]
  },
  {
   "cell_type": "markdown",
   "id": "214ed1f6-437a-41c1-8277-358613289d81",
   "metadata": {},
   "source": [
    "## Define imports"
   ]
  },
  {
   "cell_type": "code",
   "execution_count": 17,
   "id": "082b8d93-5fdd-4e7b-844c-386fa4bd5fb1",
   "metadata": {},
   "outputs": [],
   "source": [
    "import cv2\n",
    "import os"
   ]
  },
  {
   "cell_type": "markdown",
   "id": "54654b05-a256-4748-be19-d94f3a9cf9bb",
   "metadata": {},
   "source": [
    "## Define input and output directories"
   ]
  },
  {
   "cell_type": "code",
   "execution_count": 18,
   "id": "f7e4edf3-5428-470a-a6c4-eda5b612d836",
   "metadata": {},
   "outputs": [],
   "source": [
    "data_set_dir = './DataSet'\n",
    "data_set_LAB_aug_dir = './DataSetLAB'\n",
    "image_paths = os.listdir(data_set_dir)\n",
    "\n",
    "if not os.path.exists(data_set_LAB_aug_dir):\n",
    "    os.makedirs(data_set_LAB_aug_dir)"
   ]
  },
  {
   "cell_type": "markdown",
   "id": "172e43be-5530-4896-9a85-0ea149b4059f",
   "metadata": {},
   "source": [
    "## Keep only image paths"
   ]
  },
  {
   "cell_type": "code",
   "execution_count": 19,
   "id": "81bb2006-75e6-4411-8469-685d8c430c4a",
   "metadata": {},
   "outputs": [],
   "source": [
    "image_paths = [image_path for image_path in image_paths if image_path.endswith('.jpg')]"
   ]
  },
  {
   "cell_type": "markdown",
   "id": "8b7b9dd0-0665-4937-b7f7-3cf55de07c27",
   "metadata": {},
   "source": [
    "## Convert images to LAB color space and save to the output directory"
   ]
  },
  {
   "cell_type": "code",
   "execution_count": 20,
   "id": "aa8c1ed3-91ba-44c1-9f2c-ed23497a40b7",
   "metadata": {},
   "outputs": [],
   "source": [
    "for image_path in image_paths:\n",
    "    image = cv2.imread(os.path.join(data_set_dir, image_path))\n",
    "    imageLAB = cv2.cvtColor(image, cv2.COLOR_RGB2LAB)\n",
    "    cv2.imwrite(os.path.join(data_set_LAB_aug_dir, image_path), imageLAB)"
   ]
  }
 ],
 "metadata": {
  "kernelspec": {
   "display_name": "colorize",
   "language": "python",
   "name": "colorize"
  },
  "language_info": {
   "codemirror_mode": {
    "name": "ipython",
    "version": 3
   },
   "file_extension": ".py",
   "mimetype": "text/x-python",
   "name": "python",
   "nbconvert_exporter": "python",
   "pygments_lexer": "ipython3",
   "version": "3.8.5"
  }
 },
 "nbformat": 4,
 "nbformat_minor": 5
}
