{
 "cells": [
  {
   "cell_type": "markdown",
   "metadata": {},
   "source": [
    "# Define imports"
   ]
  },
  {
   "cell_type": "code",
   "execution_count": null,
   "metadata": {},
   "outputs": [],
   "source": [
    "#!pip install opencv-python\n",
    "\n",
    "import cv2\n",
    "import os\n",
    "import glob\n",
    "import numpy as np\n",
    "from Regressor_Model_Controller import Regressor_Model_Controller\n",
    "import matplotlib.pyplot as plt\n",
    "import torchvision.datasets as datasets\n",
    "import torch\n",
    "import torchvision.transforms as transforms\n",
    "import math\n",
    "import random\n",
    "\n",
    "\n",
    "torch.set_default_tensor_type(torch.FloatTensor)"
   ]
  },
  {
   "cell_type": "markdown",
   "metadata": {},
   "source": [
    "# Define constants"
   ]
  },
  {
   "cell_type": "code",
   "execution_count": 10,
   "metadata": {},
   "outputs": [],
   "source": [
    "DIPALI_HOME = '/home/dipali.patidar/DLWG/DataSet/*.jpg'\n",
    "IMAGE_HEIGHT = 128\n",
    "IMAGE_WIDTH = 128\n",
    "REGRESSOR_SAVED_MODEL_PATH= './Model/Regressor/Regressor.pth'\n",
    "REGRESSOR_EPOCH = 75\n",
    "REGRESSOR_LOSS_PLOT_PATH = \"./Plots/Regressor/Regressor_Loss_plot.jpeg\"\n",
    "REGRESSOR_LR = 0.0001\n",
    "REGRESSOR_WEIGHT_DECAY = 1e-5\n",
    "REGRESSOR_IN_CHANNEL = 1\n",
    "REGRESSOR_HIDDEN_CHANNEL = 3\n",
    "REGRESSOR_OUT_DIMS = 2\n",
    "REGRESSOR_BATCH_SIZE_CPU = 32\n",
    "REGRESSOR_BATCH_SIZE_CUDA = 32"
   ]
  },
  {
   "cell_type": "markdown",
   "metadata": {},
   "source": [
    "# Use GPU if available"
   ]
  },
  {
   "cell_type": "code",
   "execution_count": 11,
   "metadata": {},
   "outputs": [],
   "source": [
    "def get_device():\n",
    "        device = torch.device(\"cuda:0\" if torch.cuda.is_available() else \"cpu\")\n",
    "        is_cuda_present = True if torch.cuda.is_available() else False\n",
    "        num_workers = 8 if is_cuda_present else 0\n",
    "\n",
    "        return device, is_cuda_present, num_workers"
   ]
  },
  {
   "cell_type": "markdown",
   "metadata": {},
   "source": [
    "# Load image data from folder"
   ]
  },
  {
   "cell_type": "code",
   "execution_count": 8,
   "metadata": {},
   "outputs": [],
   "source": [
    "def image_modification(file,nimages):\n",
    "    img = cv2.imread(file)\n",
    "\n",
    "    #Resize to respect the input_shape\n",
    "    inp = cv2.resize(img, (IMAGE_WIDTH , IMAGE_HEIGHT))\n",
    "\n",
    "    #Convert img to RGB\n",
    "    rgb = cv2.cvtColor(inp, cv2.COLOR_BGR2RGB)\n",
    "    \n",
    "    return img\n",
    "    \n",
    "\n",
    "def read_images_to_tensor(filepath):\n",
    "    \n",
    "    files = glob.glob(filepath)\n",
    "    nimages = len(files)\n",
    "    data = []\n",
    "    #print(files)\n",
    "    for f1 in files:\n",
    "        #cv2.imshow('image',img)\n",
    "        data.append(image_modification(f1,nimages))\n",
    "    return torch.tensor(data)\n",
    "\n",
    "\n",
    "data_tensor = read_images_to_tensor(DIPALI_HOME)"
   ]
  },
  {
   "cell_type": "markdown",
   "metadata": {},
   "source": [
    "# Define input and output directories"
   ]
  },
  {
   "cell_type": "code",
   "execution_count": 12,
   "metadata": {},
   "outputs": [],
   "source": [
    "data_set_dir = './DataSet'\n",
    "image_paths = os.listdir(data_set_dir)\n",
    "image_paths = [image_path for image_path in image_paths if image_path.endswith('.jpg')]\n",
    "random.shuffle(image_paths)\n",
    "image_data = [cv2.imread(os.path.join(data_set_dir, image_path)) for image_path in image_paths]"
   ]
  },
  {
   "cell_type": "markdown",
   "metadata": {},
   "source": [
    "# Convert images to LAB color space¶"
   ]
  },
  {
   "cell_type": "code",
   "execution_count": 31,
   "metadata": {},
   "outputs": [],
   "source": [
    "transformed_image_data = []\n",
    "\n",
    "transform_color = transforms.Compose([transforms.ToTensor()])\n",
    "\n",
    "for image_path in image_paths:\n",
    "    image = cv2.imread(os.path.join(data_set_dir, image_path))\n",
    "    imageLAB = cv2.cvtColor(image, cv2.COLOR_RGB2LAB)\n",
    "    #print(imageLAB.shape)\n",
    "    image_lab = transform_color(image)\n",
    "    image_gray = image_lab[0:1,:,:]\n",
    "\n",
    "    image_a = image_lab[1:2, :, :]\n",
    "    #print(image_a.shape)\n",
    "\n",
    "    image_b = image_lab[2:3, :, :]\n",
    "    #print(image_b.shape)\n",
    "    #print(image_b)\n",
    "    #plt.imshow(image_b)\n",
    "    #plt.show()\n",
    "    \n",
    "\n",
    "    transformed_image_data.append((image_gray, image_a, image_b))\n"
   ]
  },
  {
   "cell_type": "code",
   "execution_count": 34,
   "metadata": {},
   "outputs": [
    {
     "ename": "NameError",
     "evalue": "name 'image_data' is not defined",
     "output_type": "error",
     "traceback": [
      "\u001b[0;31m---------------------------------------------------------------------------\u001b[0m",
      "\u001b[0;31mNameError\u001b[0m                                 Traceback (most recent call last)",
      "\u001b[0;32m/scratch/local/10634056/ipykernel_11376/3604967593.py\u001b[0m in \u001b[0;36m<module>\u001b[0;34m\u001b[0m\n\u001b[0;32m----> 1\u001b[0;31m \u001b[0mindex_test\u001b[0m \u001b[0;34m=\u001b[0m \u001b[0mmath\u001b[0m\u001b[0;34m.\u001b[0m\u001b[0mfloor\u001b[0m\u001b[0;34m(\u001b[0m\u001b[0mlen\u001b[0m\u001b[0;34m(\u001b[0m\u001b[0mimage_data\u001b[0m\u001b[0;34m)\u001b[0m \u001b[0;34m*\u001b[0m \u001b[0mtest_size\u001b[0m\u001b[0;34m)\u001b[0m\u001b[0;34m\u001b[0m\u001b[0;34m\u001b[0m\u001b[0m\n\u001b[0m\u001b[1;32m      2\u001b[0m \u001b[0;34m\u001b[0m\u001b[0m\n\u001b[1;32m      3\u001b[0m \u001b[0;31m# include both color and gray images\u001b[0m\u001b[0;34m\u001b[0m\u001b[0;34m\u001b[0m\u001b[0;34m\u001b[0m\u001b[0m\n\u001b[1;32m      4\u001b[0m trainloader = torch.utils.data.DataLoader(transformed_image_data[:index_test], batch_size=batch_size,\n\u001b[1;32m      5\u001b[0m                                           shuffle=True, num_workers=0)\n",
      "\u001b[0;31mNameError\u001b[0m: name 'image_data' is not defined"
     ]
    }
   ],
   "source": [
    "test_size=0.1\n",
    "batch_size =REGRESSOR_BATCH_SIZE_CPU\n",
    "index_test = math.floor(len(image_data) * test_size)\n",
    "\n",
    "# include both color and gray images\n",
    "trainloader = torch.utils.data.DataLoader(transformed_image_data[:index_test], batch_size=batch_size,\n",
    "                                          shuffle=True, num_workers=0)\n",
    "testloader = torch.utils.data.DataLoader(transformed_image_data[index_test:], batch_size=batch_size,\n",
    "                                         shuffle=False, num_workers=0)"
   ]
  },
  {
   "cell_type": "markdown",
   "metadata": {},
   "source": [
    "# Train the Regressor"
   ]
  },
  {
   "cell_type": "code",
   "execution_count": null,
   "metadata": {},
   "outputs": [],
   "source": [
    "def train_regressor(augmented_dataset_batch, device):\n",
    "        regressor_train_arguments = {\n",
    "            \"data_loader\": augmented_dataset_batch,\n",
    "            \"saved_model_path\": REGRESSOR_SAVED_MODEL_PATH,\n",
    "            \"epochs\": REGRESSOR_EPOCH,\n",
    "            \"learning_rate\": REGRESSOR_LR,\n",
    "            \"weight_decay\": REGRESSOR_WEIGHT_DECAY,\n",
    "            \"in_channel\": REGRESSOR_IN_CHANNEL,\n",
    "            \"hidden_channel\": REGRESSOR_HIDDEN_CHANNEL,\n",
    "            \"out_dims\": REGRESSOR_OUT_DIMS,\n",
    "            \"loss_plot_path\": REGRESSOR_LOSS_PLOT_PATH\n",
    "        }\n",
    "\n",
    "        regressor_manager = Regressor_Model_Controller()\n",
    "        regressor_manager.train(regressor_train_arguments, device)\n",
    "\n",
    "def test_regressor(augmented_dataset_batch, device):\n",
    "        regressor_arguments = {\n",
    "            \"data_loader\": augmented_dataset_batch,\n",
    "            \"saved_model_path\": Constants.REGRESSOR_SAVED_MODEL_PATH,\n",
    "            \"in_channel\": Constants.REGRESSOR_IN_CHANNEL,\n",
    "            \"hidden_channel\": Constants.REGRESSOR_HIDDEN_CHANNEL,\n",
    "            \"out_dims\": Constants.REGRESSOR_OUT_DIMS,\n",
    "            \"loss_plot_path\": Constants.REGRESSOR_LOSS_PLOT_PATH\n",
    "        }\n",
    "\n",
    "        regressor_manager = Regressor_Model_Controller()\n",
    "        regressor_manager.test(regressor_arguments, device)"
   ]
  }
 ],
 "metadata": {
  "kernelspec": {
   "display_name": "PyTorch-1.8.1",
   "language": "python",
   "name": "pytorch-1.8.1"
  },
  "language_info": {
   "codemirror_mode": {
    "name": "ipython",
    "version": 3
   },
   "file_extension": ".py",
   "mimetype": "text/x-python",
   "name": "python",
   "nbconvert_exporter": "python",
   "pygments_lexer": "ipython3",
   "version": "3.9.5"
  }
 },
 "nbformat": 4,
 "nbformat_minor": 4
}
